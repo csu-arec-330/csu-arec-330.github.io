{
 "cells": [
  {
   "cell_type": "markdown",
   "id": "b2465608-57fe-40e5-85c3-bd44bc49d673",
   "metadata": {},
   "source": [
    "## Manual DEA Using Linear Programming in Python\n",
    "This will walk through a manual LP set up for 2 DMUs for CRS and VRS DEA problems. Followed by expanding the 2 DMU case to the N DMU case. The data for this example are in dairy.csv"
   ]
  },
  {
   "cell_type": "code",
   "execution_count": null,
   "id": "91a3f65e-83f0-4ecc-a6e6-b26883901877",
   "metadata": {},
   "outputs": [],
   "source": [
    "# Import packages\n",
    "\n",
    "# Linear Programming\n",
    "from scipy.optimize import linprog\n",
    "\n",
    "# Python DEA package\n",
    "#import pulp\n",
    "#import pyDEA as dea\n",
    "\n",
    "# Common imports\n",
    "import numpy as np\n",
    "import pandas as pd\n",
    "\n",
    "# To plot pretty figures\n",
    "import pandas_bokeh\n",
    "from bokeh.models import ColumnDataSource, Label, LabelSet, Range1d\n",
    "from bokeh.plotting import figure, output_file, show\n",
    "from bokeh.transform import factor_cmap, factor_mark"
   ]
  },
  {
   "cell_type": "code",
   "execution_count": null,
   "id": "5bc0cc52-f341-48bf-8d3a-72285d42b728",
   "metadata": {},
   "outputs": [],
   "source": [
    "# Read in Data\n",
    "dairy = pd.read_csv(\"dairy.csv\")"
   ]
  },
  {
   "cell_type": "code",
   "execution_count": null,
   "id": "0a03dcd3-863e-42ee-bd5f-d99ed0f91c90",
   "metadata": {},
   "outputs": [],
   "source": [
    "# Look at first 5 observations\n",
    "dairy.head()"
   ]
  },
  {
   "cell_type": "markdown",
   "id": "76f66b45-8482-4a22-8370-fccab44c5c26",
   "metadata": {},
   "source": [
    "### CRS IO DEA - start with first two firms"
   ]
  },
  {
   "cell_type": "code",
   "execution_count": null,
   "id": "76a7bf9c-373a-421d-bc45-1b7aa882c1db",
   "metadata": {},
   "outputs": [],
   "source": [
    "# Firm 1\n",
    "# define objective function as minimization problem for the first observation"
   ]
  },
  {
   "cell_type": "code",
   "execution_count": null,
   "id": "cf9fc2a9-2f0d-4515-a42e-cf0540e9ec21",
   "metadata": {},
   "outputs": [],
   "source": [
    "# Firm 2\n",
    "# define objective function as minimization problem for the first observation"
   ]
  },
  {
   "cell_type": "markdown",
   "id": "fdc8f96f-d652-4082-8f4e-c46f5919ad4c",
   "metadata": {},
   "source": [
    "### CRS IO DEA - all firms"
   ]
  },
  {
   "cell_type": "code",
   "execution_count": null,
   "id": "142a5b8f-b3b7-4bb0-b8f0-116aceb9c803",
   "metadata": {},
   "outputs": [],
   "source": [
    "# create inequality constraints for all observations\n",
    "\n",
    "# max uy for each DMU (farm):"
   ]
  },
  {
   "cell_type": "code",
   "execution_count": null,
   "id": "7076b500-8910-40d1-9ca0-5a4a98031f93",
   "metadata": {},
   "outputs": [],
   "source": [
    "# Check manually"
   ]
  },
  {
   "cell_type": "code",
   "execution_count": null,
   "id": "411aa43d-96de-466d-8bdc-1c6705566b07",
   "metadata": {},
   "outputs": [],
   "source": [
    "# Plot"
   ]
  },
  {
   "cell_type": "markdown",
   "id": "66954c2b-2b4c-46d5-8d75-650195ee2c25",
   "metadata": {},
   "source": [
    "### VRS IO DEA - start with first two firms"
   ]
  },
  {
   "cell_type": "code",
   "execution_count": null,
   "id": "495f2f8c-2226-43ea-8d52-25ddf4306ca7",
   "metadata": {},
   "outputs": [],
   "source": [
    "# Firm 1\n",
    "# define objective function as minimization problem for the first observation"
   ]
  },
  {
   "cell_type": "code",
   "execution_count": null,
   "id": "2ef48feb-d18a-415f-8ccc-6212fff33733",
   "metadata": {},
   "outputs": [],
   "source": [
    "# Firm 2\n",
    "# define objective function as minimization problem for the first observation"
   ]
  },
  {
   "cell_type": "markdown",
   "id": "8be01281-1b84-4808-a097-8f5294747842",
   "metadata": {},
   "source": [
    "### VRS IO DEA - all firms"
   ]
  },
  {
   "cell_type": "code",
   "execution_count": null,
   "id": "089cc604-15f1-4bfc-a656-040f552977c3",
   "metadata": {},
   "outputs": [],
   "source": [
    "# create inequality constraints for all observations\n",
    "\n",
    "# max uy - u_0 for each DMU (farm):"
   ]
  },
  {
   "cell_type": "code",
   "execution_count": null,
   "id": "ca2c3d2d-4fdc-4787-8fda-d618f48f86d2",
   "metadata": {},
   "outputs": [],
   "source": [
    "# Plot (note cannot check manually)"
   ]
  }
 ],
 "metadata": {
  "kernelspec": {
   "display_name": "Python 3 (ipykernel)",
   "language": "python",
   "name": "python3"
  },
  "language_info": {
   "codemirror_mode": {
    "name": "ipython",
    "version": 3
   },
   "file_extension": ".py",
   "mimetype": "text/x-python",
   "name": "python",
   "nbconvert_exporter": "python",
   "pygments_lexer": "ipython3",
   "version": "3.9.7"
  }
 },
 "nbformat": 4,
 "nbformat_minor": 5
}
